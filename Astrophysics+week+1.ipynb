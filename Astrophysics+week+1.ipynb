{
 "cells": [
  {
   "cell_type": "code",
   "execution_count": 14,
   "metadata": {},
   "outputs": [
    {
     "data": {
      "image/png": "[encoded data removed]",
      "text/plain": [
       "<matplotlib.figure.Figure at 0x1d25164d208>"
      ]
     },
     "metadata": {},
     "output_type": "display_data"
    },
    {
     "name": "stdout",
     "output_type": "stream",
     "text": [
      "[ -1.          -0.99194941  -0.96786235  -0.92793198  -0.87247671\n",
      "  -0.80193516  -0.71685906  -0.61790439  -0.5058208   -0.38143959\n",
      "  -0.24566029  -0.09943622   0.05624089   0.2203568    0.39189113\n",
      "   0.56983374   0.75320103   0.94105173   1.13250202   1.32673984\n",
      "   1.52303787   1.72076526   1.9193978    2.11852633   2.31786335\n",
      "   2.51724761   2.71664673   2.91615771   3.1160054    3.31653881\n",
      "   3.51822559   3.72164442   3.92747576   4.13649084   4.34953934\n",
      "   4.56753561   4.79144404   5.02226353   5.26101137   5.50870692\n",
      "   5.76635519   6.03493068   6.31536167   6.60851533   6.91518372\n",
      "   7.23607109   7.57178249   7.9228141    8.28954521   8.67223212\n",
      "   9.07100401   9.48586089   9.91667357  10.36318575  10.82501814\n",
      "  11.30167457  11.79254997  12.2969401   12.81405289  13.3430212\n",
      "  13.88291671  14.43276495  14.9915609   15.55828521  16.13192056\n",
      "  16.71146808  17.29596338  17.88449208  18.47620454  19.0703295\n",
      "  19.66618651  20.26319688  20.86089299  21.45892579  22.05707046  22.65523\n",
      "  23.25343677  23.85185202  24.45076327  25.05057967  25.65182544\n",
      "  26.25513141  26.8612249   27.470918    28.0850945   28.70469567\n",
      "  29.33070513  29.96413301  30.6059997   31.25731941  31.9190839\n",
      "  32.59224648  33.27770669  33.97629581  34.6887635   35.41576574\n",
      "  36.15785426  36.91546767  37.68892441  38.4784176 ]\n"
     ]
    }
   ],
   "source": [
    "import numpy as np\n",
    "import pylab as plt\n",
    "x = np.linspace(0, 2*np.pi, num=100)\n",
    "y = np.cos(x)\n",
    "xsin = np.sin(x)\n",
    "xsq = np.power(xsin,2) + np.power(x,2) - 1\n",
    "##plt.plot(xsin,y)\n",
    "##plt.plot(x,y)\n",
    "plt.plot(xsq,y)\n",
    "plt.plot(xsin,y)\n",
    "plt.show()\n",
    "print(xsq)"
   ]
  },
  {
   "cell_type": "code",
   "execution_count": 21,
   "metadata": {},
   "outputs": [
    {
     "name": "stdout",
     "output_type": "stream",
     "text": [
      "66.7384 pN / m2\n"
     ]
    }
   ],
   "source": [
    "import numpy as np\n",
    "import pylab as pl\n",
    "from astropy import constants as c\n",
    "from astropy import units as u\n",
    "\n",
    "x = 1.*u.meter\n",
    "t = 5.*u.second\n",
    "v = x/t\n",
    "\n",
    "#print(v.to(u.kilometer/u.second))\n",
    "\n",
    "m = 1.*u.kilogram\n",
    "r = 1.*u.meter\n",
    "F = c.G * np.power(m,2)/np.power(r,2)\n",
    "#F = F.to(u.Newton)\n",
    "F = F.to(u.picoNewton)\n",
    "xx = u.centimeter\n",
    "P = F/np.power(x,2)\n",
    "P.to(u.Pascal)\n",
    "print(P)"
   ]
  },
  {
   "cell_type": "code",
   "execution_count": 28,
   "metadata": {},
   "outputs": [
    {
     "name": "stdout",
     "output_type": "stream",
     "text": [
      "37.70708918861369\n"
     ]
    }
   ],
   "source": [
    "import numpy as np\n",
    "import pylab as pl\n",
    "from astropy import constants as c\n",
    "from astropy import units as u\n",
    "\n",
    "def GravForce(m1, m2, r):\n",
    "    F = c.G * m1 * m2 / np.power(r,2)\n",
    "    return F\n",
    "\n",
    "def mStudent():\n",
    "    m = 90.*u.kilogram\n",
    "    return m\n",
    "\n",
    "earthToJupiter = (5.*u.AU).to(u.meter)\n",
    "\n",
    "gravJonStudent = GravForce(c.M_jup, mStudent(), earthToJupiter)\n",
    "gravSonS = GravForce(mStudent(), mStudent(), 1.*u.meter)\n",
    "print(gravJonStudent/gravSonS)"
   ]
  },
  {
   "cell_type": "code",
   "execution_count": null,
   "metadata": {
    "collapsed": true
   },
   "outputs": [],
   "source": []
  }
 ],
 "metadata": {
  "kernelspec": {
   "display_name": "Python 3",
   "language": "python",
   "name": "python3"
  },
  "language_info": {
   "codemirror_mode": {
    "name": "ipython",
    "version": 3
   },
   "file_extension": ".py",
   "mimetype": "text/x-python",
   "name": "python",
   "nbconvert_exporter": "python",
   "pygments_lexer": "ipython3",
   "version": "3.6.1"
  }
 },
 "nbformat": 4,
 "nbformat_minor": 2
}
